{
 "cells": [
  {
   "cell_type": "code",
   "execution_count": 1,
   "metadata": {},
   "outputs": [],
   "source": [
    "import pandas as pd\n"
   ]
  },
  {
   "cell_type": "code",
   "execution_count": 2,
   "metadata": {},
   "outputs": [
    {
     "data": {
      "text/html": [
       "<div>\n",
       "<style scoped>\n",
       "    .dataframe tbody tr th:only-of-type {\n",
       "        vertical-align: middle;\n",
       "    }\n",
       "\n",
       "    .dataframe tbody tr th {\n",
       "        vertical-align: top;\n",
       "    }\n",
       "\n",
       "    .dataframe thead th {\n",
       "        text-align: right;\n",
       "    }\n",
       "</style>\n",
       "<table border=\"1\" class=\"dataframe\">\n",
       "  <thead>\n",
       "    <tr style=\"text-align: right;\">\n",
       "      <th></th>\n",
       "      <th>id</th>\n",
       "      <th>book_id</th>\n",
       "      <th>best_book_id</th>\n",
       "      <th>work_id</th>\n",
       "      <th>books_count</th>\n",
       "      <th>isbn</th>\n",
       "      <th>isbn13</th>\n",
       "      <th>authors</th>\n",
       "      <th>original_publication_year</th>\n",
       "      <th>original_title</th>\n",
       "      <th>...</th>\n",
       "      <th>ratings_1</th>\n",
       "      <th>ratings_2</th>\n",
       "      <th>ratings_3</th>\n",
       "      <th>ratings_4</th>\n",
       "      <th>ratings_5</th>\n",
       "      <th>image_url</th>\n",
       "      <th>small_image_url</th>\n",
       "      <th>description</th>\n",
       "      <th>genre</th>\n",
       "      <th>pages</th>\n",
       "    </tr>\n",
       "  </thead>\n",
       "  <tbody>\n",
       "    <tr>\n",
       "      <th>0</th>\n",
       "      <td>1</td>\n",
       "      <td>2767052</td>\n",
       "      <td>2767052</td>\n",
       "      <td>2792775</td>\n",
       "      <td>272</td>\n",
       "      <td>439023483</td>\n",
       "      <td>9.780439e+12</td>\n",
       "      <td>Suzanne Collins</td>\n",
       "      <td>2008.0</td>\n",
       "      <td>The Hunger Games</td>\n",
       "      <td>...</td>\n",
       "      <td>66715</td>\n",
       "      <td>127936</td>\n",
       "      <td>560092</td>\n",
       "      <td>1481305</td>\n",
       "      <td>2706317</td>\n",
       "      <td>https://images.gr-assets.com/books/1447303603m...</td>\n",
       "      <td>https://images.gr-assets.com/books/1447303603s...</td>\n",
       "      <td>Winning will make you famous. Losing means cer...</td>\n",
       "      <td>Young Adult|Fiction|Science Fiction|Dystopia|F...</td>\n",
       "      <td>374.0</td>\n",
       "    </tr>\n",
       "    <tr>\n",
       "      <th>1</th>\n",
       "      <td>2</td>\n",
       "      <td>3</td>\n",
       "      <td>3</td>\n",
       "      <td>4640799</td>\n",
       "      <td>491</td>\n",
       "      <td>439554934</td>\n",
       "      <td>9.780440e+12</td>\n",
       "      <td>J.K. Rowling, Mary GrandPré</td>\n",
       "      <td>1997.0</td>\n",
       "      <td>Harry Potter and the Philosopher's Stone</td>\n",
       "      <td>...</td>\n",
       "      <td>75504</td>\n",
       "      <td>101676</td>\n",
       "      <td>455024</td>\n",
       "      <td>1156318</td>\n",
       "      <td>3011543</td>\n",
       "      <td>https://images.gr-assets.com/books/1474154022m...</td>\n",
       "      <td>https://images.gr-assets.com/books/1474154022s...</td>\n",
       "      <td>In Harry Potter and the Sorcerer's Stone, Harr...</td>\n",
       "      <td>Fantasy|Young Adult|Fiction</td>\n",
       "      <td>320.0</td>\n",
       "    </tr>\n",
       "    <tr>\n",
       "      <th>2</th>\n",
       "      <td>3</td>\n",
       "      <td>41865</td>\n",
       "      <td>41865</td>\n",
       "      <td>3212258</td>\n",
       "      <td>226</td>\n",
       "      <td>316015849</td>\n",
       "      <td>9.780316e+12</td>\n",
       "      <td>Stephenie Meyer</td>\n",
       "      <td>2005.0</td>\n",
       "      <td>Twilight</td>\n",
       "      <td>...</td>\n",
       "      <td>456191</td>\n",
       "      <td>436802</td>\n",
       "      <td>793319</td>\n",
       "      <td>875073</td>\n",
       "      <td>1355439</td>\n",
       "      <td>https://images.gr-assets.com/books/1361039443m...</td>\n",
       "      <td>https://images.gr-assets.com/books/1361039443s...</td>\n",
       "      <td>About three things I was absolutely positive.F...</td>\n",
       "      <td>Young Adult|Fantasy|Romance|Paranormal|Vampire...</td>\n",
       "      <td>498.0</td>\n",
       "    </tr>\n",
       "    <tr>\n",
       "      <th>3</th>\n",
       "      <td>4</td>\n",
       "      <td>2657</td>\n",
       "      <td>2657</td>\n",
       "      <td>3275794</td>\n",
       "      <td>487</td>\n",
       "      <td>61120081</td>\n",
       "      <td>9.780061e+12</td>\n",
       "      <td>Harper Lee</td>\n",
       "      <td>1960.0</td>\n",
       "      <td>To Kill a Mockingbird</td>\n",
       "      <td>...</td>\n",
       "      <td>60427</td>\n",
       "      <td>117415</td>\n",
       "      <td>446835</td>\n",
       "      <td>1001952</td>\n",
       "      <td>1714267</td>\n",
       "      <td>https://images.gr-assets.com/books/1361975680m...</td>\n",
       "      <td>https://images.gr-assets.com/books/1361975680s...</td>\n",
       "      <td>The unforgettable novel of a childhood in a sl...</td>\n",
       "      <td>Classics|Fiction|Historical|Historical Fiction...</td>\n",
       "      <td>324.0</td>\n",
       "    </tr>\n",
       "    <tr>\n",
       "      <th>4</th>\n",
       "      <td>5</td>\n",
       "      <td>4671</td>\n",
       "      <td>4671</td>\n",
       "      <td>245494</td>\n",
       "      <td>1356</td>\n",
       "      <td>743273567</td>\n",
       "      <td>9.780743e+12</td>\n",
       "      <td>F. Scott Fitzgerald</td>\n",
       "      <td>1925.0</td>\n",
       "      <td>The Great Gatsby</td>\n",
       "      <td>...</td>\n",
       "      <td>86236</td>\n",
       "      <td>197621</td>\n",
       "      <td>606158</td>\n",
       "      <td>936012</td>\n",
       "      <td>947718</td>\n",
       "      <td>https://images.gr-assets.com/books/1490528560m...</td>\n",
       "      <td>https://images.gr-assets.com/books/1490528560s...</td>\n",
       "      <td>Alternate Cover Edition ISBN: 0743273567 (ISBN...</td>\n",
       "      <td>Classics|Fiction|Academic|School|Literature|Hi...</td>\n",
       "      <td>180.0</td>\n",
       "    </tr>\n",
       "  </tbody>\n",
       "</table>\n",
       "<p>5 rows × 26 columns</p>\n",
       "</div>"
      ],
      "text/plain": [
       "   id  book_id  best_book_id  work_id  books_count       isbn        isbn13  \\\n",
       "0   1  2767052       2767052  2792775          272  439023483  9.780439e+12   \n",
       "1   2        3             3  4640799          491  439554934  9.780440e+12   \n",
       "2   3    41865         41865  3212258          226  316015849  9.780316e+12   \n",
       "3   4     2657          2657  3275794          487   61120081  9.780061e+12   \n",
       "4   5     4671          4671   245494         1356  743273567  9.780743e+12   \n",
       "\n",
       "                       authors  original_publication_year  \\\n",
       "0              Suzanne Collins                     2008.0   \n",
       "1  J.K. Rowling, Mary GrandPré                     1997.0   \n",
       "2              Stephenie Meyer                     2005.0   \n",
       "3                   Harper Lee                     1960.0   \n",
       "4          F. Scott Fitzgerald                     1925.0   \n",
       "\n",
       "                             original_title  ... ratings_1 ratings_2  \\\n",
       "0                          The Hunger Games  ...     66715    127936   \n",
       "1  Harry Potter and the Philosopher's Stone  ...     75504    101676   \n",
       "2                                  Twilight  ...    456191    436802   \n",
       "3                     To Kill a Mockingbird  ...     60427    117415   \n",
       "4                          The Great Gatsby  ...     86236    197621   \n",
       "\n",
       "   ratings_3  ratings_4  ratings_5  \\\n",
       "0     560092    1481305    2706317   \n",
       "1     455024    1156318    3011543   \n",
       "2     793319     875073    1355439   \n",
       "3     446835    1001952    1714267   \n",
       "4     606158     936012     947718   \n",
       "\n",
       "                                           image_url  \\\n",
       "0  https://images.gr-assets.com/books/1447303603m...   \n",
       "1  https://images.gr-assets.com/books/1474154022m...   \n",
       "2  https://images.gr-assets.com/books/1361039443m...   \n",
       "3  https://images.gr-assets.com/books/1361975680m...   \n",
       "4  https://images.gr-assets.com/books/1490528560m...   \n",
       "\n",
       "                                     small_image_url  \\\n",
       "0  https://images.gr-assets.com/books/1447303603s...   \n",
       "1  https://images.gr-assets.com/books/1474154022s...   \n",
       "2  https://images.gr-assets.com/books/1361039443s...   \n",
       "3  https://images.gr-assets.com/books/1361975680s...   \n",
       "4  https://images.gr-assets.com/books/1490528560s...   \n",
       "\n",
       "                                         description  \\\n",
       "0  Winning will make you famous. Losing means cer...   \n",
       "1  In Harry Potter and the Sorcerer's Stone, Harr...   \n",
       "2  About three things I was absolutely positive.F...   \n",
       "3  The unforgettable novel of a childhood in a sl...   \n",
       "4  Alternate Cover Edition ISBN: 0743273567 (ISBN...   \n",
       "\n",
       "                                               genre  pages  \n",
       "0  Young Adult|Fiction|Science Fiction|Dystopia|F...  374.0  \n",
       "1                        Fantasy|Young Adult|Fiction  320.0  \n",
       "2  Young Adult|Fantasy|Romance|Paranormal|Vampire...  498.0  \n",
       "3  Classics|Fiction|Historical|Historical Fiction...  324.0  \n",
       "4  Classics|Fiction|Academic|School|Literature|Hi...  180.0  \n",
       "\n",
       "[5 rows x 26 columns]"
      ]
     },
     "execution_count": 2,
     "metadata": {},
     "output_type": "execute_result"
    }
   ],
   "source": [
    "data = pd.read_csv('data/books_procesado.csv',index_col=[0])\n",
    "data.head()"
   ]
  },
  {
   "cell_type": "code",
   "execution_count": 3,
   "metadata": {},
   "outputs": [
    {
     "data": {
      "text/plain": [
       "(8991, 26)"
      ]
     },
     "execution_count": 3,
     "metadata": {},
     "output_type": "execute_result"
    }
   ],
   "source": [
    "data.shape"
   ]
  },
  {
   "cell_type": "code",
   "execution_count": 4,
   "metadata": {},
   "outputs": [
    {
     "data": {
      "text/plain": [
       "Index(['id', 'book_id', 'best_book_id', 'work_id', 'books_count', 'isbn',\n",
       "       'isbn13', 'authors', 'original_publication_year', 'original_title',\n",
       "       'title', 'language_code', 'average_rating', 'ratings_count',\n",
       "       'work_ratings_count', 'work_text_reviews_count', 'ratings_1',\n",
       "       'ratings_2', 'ratings_3', 'ratings_4', 'ratings_5', 'image_url',\n",
       "       'small_image_url', 'description', 'genre', 'pages'],\n",
       "      dtype='object')"
      ]
     },
     "execution_count": 4,
     "metadata": {},
     "output_type": "execute_result"
    }
   ],
   "source": [
    "data.columns"
   ]
  },
  {
   "cell_type": "code",
   "execution_count": 5,
   "metadata": {},
   "outputs": [],
   "source": [
    "data.drop(columns=[ 'image_url','small_image_url'], inplace=True)"
   ]
  },
  {
   "cell_type": "code",
   "execution_count": 6,
   "metadata": {},
   "outputs": [
    {
     "data": {
      "text/plain": [
       "id                              0\n",
       "book_id                         0\n",
       "best_book_id                    0\n",
       "work_id                         0\n",
       "books_count                     0\n",
       "isbn                            1\n",
       "isbn13                          1\n",
       "authors                         0\n",
       "original_publication_year      18\n",
       "original_title                427\n",
       "title                           0\n",
       "language_code                1010\n",
       "average_rating                  0\n",
       "ratings_count                   0\n",
       "work_ratings_count              0\n",
       "work_text_reviews_count         0\n",
       "ratings_1                       0\n",
       "ratings_2                       0\n",
       "ratings_3                       0\n",
       "ratings_4                       0\n",
       "ratings_5                       0\n",
       "description                     3\n",
       "genre                           2\n",
       "pages                           2\n",
       "dtype: int64"
      ]
     },
     "execution_count": 6,
     "metadata": {},
     "output_type": "execute_result"
    }
   ],
   "source": [
    "data.isnull().sum()"
   ]
  },
  {
   "cell_type": "code",
   "execution_count": 7,
   "metadata": {},
   "outputs": [
    {
     "data": {
      "text/html": [
       "<div>\n",
       "<style scoped>\n",
       "    .dataframe tbody tr th:only-of-type {\n",
       "        vertical-align: middle;\n",
       "    }\n",
       "\n",
       "    .dataframe tbody tr th {\n",
       "        vertical-align: top;\n",
       "    }\n",
       "\n",
       "    .dataframe thead th {\n",
       "        text-align: right;\n",
       "    }\n",
       "</style>\n",
       "<table border=\"1\" class=\"dataframe\">\n",
       "  <thead>\n",
       "    <tr style=\"text-align: right;\">\n",
       "      <th></th>\n",
       "      <th>original_title</th>\n",
       "      <th>title</th>\n",
       "    </tr>\n",
       "  </thead>\n",
       "  <tbody>\n",
       "    <tr>\n",
       "      <th>74</th>\n",
       "      <td>NaN</td>\n",
       "      <td>Bridget Jones's Diary</td>\n",
       "    </tr>\n",
       "    <tr>\n",
       "      <th>142</th>\n",
       "      <td>NaN</td>\n",
       "      <td>All the Light We Cannot See</td>\n",
       "    </tr>\n",
       "    <tr>\n",
       "      <th>209</th>\n",
       "      <td>NaN</td>\n",
       "      <td>Vampire Academy</td>\n",
       "    </tr>\n",
       "    <tr>\n",
       "      <th>214</th>\n",
       "      <td>NaN</td>\n",
       "      <td>Ready Player One</td>\n",
       "    </tr>\n",
       "    <tr>\n",
       "      <th>256</th>\n",
       "      <td>NaN</td>\n",
       "      <td>Alice in Wonderland</td>\n",
       "    </tr>\n",
       "    <tr>\n",
       "      <th>...</th>\n",
       "      <td>...</td>\n",
       "      <td>...</td>\n",
       "    </tr>\n",
       "    <tr>\n",
       "      <th>9931</th>\n",
       "      <td>NaN</td>\n",
       "      <td>Bread and   Wine: A Love Letter to Life Around...</td>\n",
       "    </tr>\n",
       "    <tr>\n",
       "      <th>9938</th>\n",
       "      <td>NaN</td>\n",
       "      <td>Where Good Ideas Come From: The Natural Histor...</td>\n",
       "    </tr>\n",
       "    <tr>\n",
       "      <th>9942</th>\n",
       "      <td>NaN</td>\n",
       "      <td>Sherlock Holmes and the Case of the Hound of t...</td>\n",
       "    </tr>\n",
       "    <tr>\n",
       "      <th>9956</th>\n",
       "      <td>NaN</td>\n",
       "      <td>Inside of a Dog: What Dogs See, Smell, and Know</td>\n",
       "    </tr>\n",
       "    <tr>\n",
       "      <th>9957</th>\n",
       "      <td>NaN</td>\n",
       "      <td>The Pacific</td>\n",
       "    </tr>\n",
       "  </tbody>\n",
       "</table>\n",
       "<p>427 rows × 2 columns</p>\n",
       "</div>"
      ],
      "text/plain": [
       "     original_title                                              title\n",
       "74              NaN                              Bridget Jones's Diary\n",
       "142             NaN                        All the Light We Cannot See\n",
       "209             NaN                                    Vampire Academy\n",
       "214             NaN                                   Ready Player One\n",
       "256             NaN                                Alice in Wonderland\n",
       "...             ...                                                ...\n",
       "9931            NaN  Bread and   Wine: A Love Letter to Life Around...\n",
       "9938            NaN  Where Good Ideas Come From: The Natural Histor...\n",
       "9942            NaN  Sherlock Holmes and the Case of the Hound of t...\n",
       "9956            NaN    Inside of a Dog: What Dogs See, Smell, and Know\n",
       "9957            NaN                                        The Pacific\n",
       "\n",
       "[427 rows x 2 columns]"
      ]
     },
     "execution_count": 7,
     "metadata": {},
     "output_type": "execute_result"
    }
   ],
   "source": [
    "indices_sinoriginal_contitulo = data.loc[data['original_title'].isnull(),['original_title','title']].index.tolist()\n",
    "data.loc[data['original_title'].isnull(),['original_title','title']]"
   ]
  },
  {
   "cell_type": "code",
   "execution_count": 8,
   "metadata": {},
   "outputs": [
    {
     "data": {
      "text/plain": [
       "74                                  Bridget Jones's Diary\n",
       "142                           All the Light We Cannot See\n",
       "209                                       Vampire Academy\n",
       "214                                      Ready Player One\n",
       "256                                   Alice in Wonderland\n",
       "                              ...                        \n",
       "9931    Bread and   Wine: A Love Letter to Life Around...\n",
       "9938    Where Good Ideas Come From: The Natural Histor...\n",
       "9942    Sherlock Holmes and the Case of the Hound of t...\n",
       "9956      Inside of a Dog: What Dogs See, Smell, and Know\n",
       "9957                                          The Pacific\n",
       "Name: original_title, Length: 427, dtype: object"
      ]
     },
     "execution_count": 8,
     "metadata": {},
     "output_type": "execute_result"
    }
   ],
   "source": [
    "data['original_title'].fillna(data['title'], inplace=True)\n",
    "data.loc[indices_sinoriginal_contitulo, 'original_title']\n"
   ]
  },
  {
   "cell_type": "code",
   "execution_count": 9,
   "metadata": {},
   "outputs": [
    {
     "data": {
      "text/plain": [
       "36                  The Lion, the Witch, and the Wardrobe\n",
       "88                                    The Princess Bride \n",
       "9517    Counterfeit Gods: The Empty Promises of Money,...\n",
       "Name: title, dtype: object"
      ]
     },
     "execution_count": 9,
     "metadata": {},
     "output_type": "execute_result"
    }
   ],
   "source": [
    "data.loc[data['description'].isnull(),'title']= data.loc[data['description'].isnull(),'title'].apply(lambda x: x.split('(', 1)[0].strip() if '(' in x else x)\n",
    "data.loc[data['description'].isnull(),'title']"
   ]
  },
  {
   "cell_type": "code",
   "execution_count": 10,
   "metadata": {},
   "outputs": [
    {
     "data": {
      "text/html": [
       "<div>\n",
       "<style scoped>\n",
       "    .dataframe tbody tr th:only-of-type {\n",
       "        vertical-align: middle;\n",
       "    }\n",
       "\n",
       "    .dataframe tbody tr th {\n",
       "        vertical-align: top;\n",
       "    }\n",
       "\n",
       "    .dataframe thead th {\n",
       "        text-align: right;\n",
       "    }\n",
       "</style>\n",
       "<table border=\"1\" class=\"dataframe\">\n",
       "  <thead>\n",
       "    <tr style=\"text-align: right;\">\n",
       "      <th></th>\n",
       "      <th>id</th>\n",
       "      <th>book_id</th>\n",
       "      <th>best_book_id</th>\n",
       "      <th>work_id</th>\n",
       "      <th>books_count</th>\n",
       "      <th>isbn</th>\n",
       "      <th>isbn13</th>\n",
       "      <th>authors</th>\n",
       "      <th>original_publication_year</th>\n",
       "      <th>original_title</th>\n",
       "      <th>...</th>\n",
       "      <th>work_ratings_count</th>\n",
       "      <th>work_text_reviews_count</th>\n",
       "      <th>ratings_1</th>\n",
       "      <th>ratings_2</th>\n",
       "      <th>ratings_3</th>\n",
       "      <th>ratings_4</th>\n",
       "      <th>ratings_5</th>\n",
       "      <th>description</th>\n",
       "      <th>genre</th>\n",
       "      <th>pages</th>\n",
       "    </tr>\n",
       "  </thead>\n",
       "  <tbody>\n",
       "    <tr>\n",
       "      <th>36</th>\n",
       "      <td>37</td>\n",
       "      <td>100915</td>\n",
       "      <td>100915</td>\n",
       "      <td>4790821</td>\n",
       "      <td>474</td>\n",
       "      <td>60764899</td>\n",
       "      <td>9.780061e+12</td>\n",
       "      <td>C.S. Lewis</td>\n",
       "      <td>1950.0</td>\n",
       "      <td>The Lion, the Witch and the Wardrobe</td>\n",
       "      <td>...</td>\n",
       "      <td>1584884</td>\n",
       "      <td>15186</td>\n",
       "      <td>19309</td>\n",
       "      <td>55542</td>\n",
       "      <td>262038</td>\n",
       "      <td>513366</td>\n",
       "      <td>734629</td>\n",
       "      <td>'The Lion, the Witch, and the Wardrobe' takes ...</td>\n",
       "      <td>Classics|Fantasy|Children|Young Adult</td>\n",
       "      <td>206.0</td>\n",
       "    </tr>\n",
       "  </tbody>\n",
       "</table>\n",
       "<p>1 rows × 24 columns</p>\n",
       "</div>"
      ],
      "text/plain": [
       "    id  book_id  best_book_id  work_id  books_count      isbn        isbn13  \\\n",
       "36  37   100915        100915  4790821          474  60764899  9.780061e+12   \n",
       "\n",
       "       authors  original_publication_year  \\\n",
       "36  C.S. Lewis                     1950.0   \n",
       "\n",
       "                          original_title  ... work_ratings_count  \\\n",
       "36  The Lion, the Witch and the Wardrobe  ...            1584884   \n",
       "\n",
       "   work_text_reviews_count  ratings_1  ratings_2  ratings_3  ratings_4  \\\n",
       "36                   15186      19309      55542     262038     513366   \n",
       "\n",
       "    ratings_5                                        description  \\\n",
       "36     734629  'The Lion, the Witch, and the Wardrobe' takes ...   \n",
       "\n",
       "                                    genre  pages  \n",
       "36  Classics|Fantasy|Children|Young Adult  206.0  \n",
       "\n",
       "[1 rows x 24 columns]"
      ]
     },
     "execution_count": 10,
     "metadata": {},
     "output_type": "execute_result"
    }
   ],
   "source": [
    "data.loc[data['title'] == 'The Lion, the Witch, and the Wardrobe', 'description'] = \"'The Lion, the Witch, and the Wardrobe' takes readers on a thrilling journey through a magical world. Follow the adventures of four siblings: Peter, Susan, Edmund, and Lucy, as they stumble upon a mysterious wardrobe that holds the key to an enchanted realm.\"\n",
    "data.loc[data['title'] == 'The Lion, the Witch, and the Wardrobe', 'genre'] = 'Classics|Fantasy|Children|Young Adult'\n",
    "data.loc[data['title'] == 'The Lion, the Witch, and the Wardrobe', 'pages'] = 206\n",
    "data[data['title'] == 'The Lion, the Witch, and the Wardrobe']"
   ]
  },
  {
   "cell_type": "code",
   "execution_count": 11,
   "metadata": {},
   "outputs": [
    {
     "data": {
      "text/html": [
       "<div>\n",
       "<style scoped>\n",
       "    .dataframe tbody tr th:only-of-type {\n",
       "        vertical-align: middle;\n",
       "    }\n",
       "\n",
       "    .dataframe tbody tr th {\n",
       "        vertical-align: top;\n",
       "    }\n",
       "\n",
       "    .dataframe thead th {\n",
       "        text-align: right;\n",
       "    }\n",
       "</style>\n",
       "<table border=\"1\" class=\"dataframe\">\n",
       "  <thead>\n",
       "    <tr style=\"text-align: right;\">\n",
       "      <th></th>\n",
       "      <th>id</th>\n",
       "      <th>book_id</th>\n",
       "      <th>best_book_id</th>\n",
       "      <th>work_id</th>\n",
       "      <th>books_count</th>\n",
       "      <th>isbn</th>\n",
       "      <th>isbn13</th>\n",
       "      <th>authors</th>\n",
       "      <th>original_publication_year</th>\n",
       "      <th>original_title</th>\n",
       "      <th>...</th>\n",
       "      <th>work_ratings_count</th>\n",
       "      <th>work_text_reviews_count</th>\n",
       "      <th>ratings_1</th>\n",
       "      <th>ratings_2</th>\n",
       "      <th>ratings_3</th>\n",
       "      <th>ratings_4</th>\n",
       "      <th>ratings_5</th>\n",
       "      <th>description</th>\n",
       "      <th>genre</th>\n",
       "      <th>pages</th>\n",
       "    </tr>\n",
       "  </thead>\n",
       "  <tbody>\n",
       "    <tr>\n",
       "      <th>88</th>\n",
       "      <td>89</td>\n",
       "      <td>21787</td>\n",
       "      <td>21787</td>\n",
       "      <td>992628</td>\n",
       "      <td>129</td>\n",
       "      <td>345418263</td>\n",
       "      <td>9.780345e+12</td>\n",
       "      <td>William Goldman</td>\n",
       "      <td>1973.0</td>\n",
       "      <td>The Princess Bride</td>\n",
       "      <td>...</td>\n",
       "      <td>658042</td>\n",
       "      <td>15630</td>\n",
       "      <td>12883</td>\n",
       "      <td>21641</td>\n",
       "      <td>89236</td>\n",
       "      <td>196047</td>\n",
       "      <td>338235</td>\n",
       "      <td>Captivating tale of love, adventure, and whims...</td>\n",
       "      <td>Classics|Fantasy|Romance|Comedic satire</td>\n",
       "      <td>398.0</td>\n",
       "    </tr>\n",
       "  </tbody>\n",
       "</table>\n",
       "<p>1 rows × 24 columns</p>\n",
       "</div>"
      ],
      "text/plain": [
       "    id  book_id  best_book_id  work_id  books_count       isbn        isbn13  \\\n",
       "88  89    21787         21787   992628          129  345418263  9.780345e+12   \n",
       "\n",
       "            authors  original_publication_year      original_title  ...  \\\n",
       "88  William Goldman                     1973.0  The Princess Bride  ...   \n",
       "\n",
       "   work_ratings_count work_text_reviews_count  ratings_1  ratings_2  \\\n",
       "88             658042                   15630      12883      21641   \n",
       "\n",
       "    ratings_3  ratings_4  ratings_5  \\\n",
       "88      89236     196047     338235   \n",
       "\n",
       "                                          description  \\\n",
       "88  Captivating tale of love, adventure, and whims...   \n",
       "\n",
       "                                      genre  pages  \n",
       "88  Classics|Fantasy|Romance|Comedic satire  398.0  \n",
       "\n",
       "[1 rows x 24 columns]"
      ]
     },
     "execution_count": 11,
     "metadata": {},
     "output_type": "execute_result"
    }
   ],
   "source": [
    "data.loc[data['title'] == 'The Princess Bride ', 'description'] = 'Captivating tale of love, adventure, and whimsical humor. Set in a world of swashbuckling pirates, daring heroes, and cunning villains, the story follows the adventures of Westley and Buttercup. Their love is tested by a series of treacherous obstacles, including kidnapping, duels, and even death itself. Filled with witty dialogue, memorable characters, and unexpected twists, \"The Princess Bride\" is a timeless classic that seamlessly blends romance and adventure in a way that will enchant readers of all ages.'\n",
    "data.loc[data['title'] == 'The Princess Bride ', 'genre'] = 'Classics|Fantasy|Romance|Comedic satire'\n",
    "data.loc[data['title'] == 'The Princess Bride ', 'pages'] = 398\n",
    "data[data['title'] == 'The Princess Bride ']"
   ]
  },
  {
   "cell_type": "code",
   "execution_count": 12,
   "metadata": {},
   "outputs": [
    {
     "data": {
      "text/plain": [
       "0                                        The Hunger Games\n",
       "1                   Harry Potter and the Sorcerer's Stone\n",
       "2                                                Twilight\n",
       "3                                   To Kill a Mockingbird\n",
       "4                                        The Great Gatsby\n",
       "                              ...                        \n",
       "9995                                           Bayou Moon\n",
       "9996                                      Means of Ascent\n",
       "9997                                The Mauritius Command\n",
       "9998    Cinderella Ate My Daughter: Dispatches from th...\n",
       "9999                                  The First World War\n",
       "Name: title, Length: 8991, dtype: object"
      ]
     },
     "execution_count": 12,
     "metadata": {},
     "output_type": "execute_result"
    }
   ],
   "source": [
    "data['title'] = data['title'].str.strip()\n",
    "data['title'] "
   ]
  },
  {
   "cell_type": "code",
   "execution_count": 13,
   "metadata": {},
   "outputs": [
    {
     "data": {
      "text/plain": [
       "هذه هي طبعة \"دار الفكر - بيروت\" وهي آخر طبعة عربية تم اصدارها حتي الآن على 47 جزء في 23 مجلد بالاضافة الى مجلد خاص بالفهارس كتبه الاستاذ محمد عبد الرحيم بمقدمة خاصة وسرد سيرة الفيلسوف \"ويل ديورانت\" مؤلف الموسوعة الاشهر في القرن العشرينكتاب موسوعي تاريخي ضخم من تأليف الفيلسوف والمؤرخ الأمريكي \"ويل ديورانت\" وزوجته \"أريل ديورانت\". هي موسوعة في فلسفة التاريخ قضى مؤلفها عشرات السنين في إعدادها، فقرأ لذلك عشرات المؤلفات وطاف بجميع أرجاء العالم من شرقية إلى غربية أكثر من مرة على مدار 40 عامًا من عام 1935 حتى عام 1975، وحسب القارئ دليلا على الجهد الذي بذله في إعداد العدة لها أن يطلع على ثبت المراجع العامة والخاصة الذي أثبتناه في آخر كل جزء من هذه الأجزاء. وقد كان يعتزم في بادئ الأمر أن تكون هذه السلسلة في خمسة مجلدات، ولكن البحث تشعب والمادة كثرت فزادها إلى سبعة، ثم تجاوزت هذا العدد الذي قدره لها أخيراً فقررها في 11 مجلد. يتحدث فيها عن قصة جميع الحضارات البشرية منذ بدايتها وحتى عصر نابليون ويتسم بالموضوعية وبالمنهج العلميوالخلاصة أن هذه السلسلة ذخيرة علمية لا غنى عنها للمكتبة العربية ولعشاق التاريخ والفلسفة والأدب والعلم والفن والاجتماع وجميع مقومات الحضارة. الترجمة العربية: تمت ترجمة الكتاب إلى اللغة العربية وأصدرته المنظمة العربية للتربية والثقافة والعلوم التابعة لجامعة الدول العربية ودار الجيل في بيروت سنة 1988 النسخة العربية تتكون من 42 جزء في 24 مجلد، تناوب على ترجمته نخبة من الاساتذه في الفلسفة والتاريخ والعلوم.                                                                                                                                                                                                                                                                                                                                                                                                                                                                                                                                                                                                                                                                                                                                                                                                                                                                                                                                                                                                                                                                                                                                                                                                                                                                                                                                                                                                                                                                                                                                                                                                                                                                                                                                                                                                                                                                                                                                                                                                                                                                                                                                                                                                           26\n",
       "This book was converted from its physical edition to the digital format by a community of volunteers. You may find it for free on the web. Purchase of the Kindle edition includes wireless delivery.                                                                                                                                                                                                                                                                                                                                                                                                                                                                                                                                                                                                                                                                                                                                                                                                                                                                                                                                                                                                                                                                                                                                                                                                                                                                                                                                                                                                                                                                                                                                                                                                                                                                                                                                                                                                                                                                                                                                                                                                                                                                                                                                                                                                                                                                                                                                                                                                                                                                                                                                                                                                                                                                                                                                                                                                                                                                                                                                                                                                                                                                                                                                                                                                                                                                                                                                                                                         10\n",
       "Wakamiya Hikaru is a 15-year-old teenager who wants a boyfriend that'll protect her. She likes to read shoujo manga all the time. One day, she gets kissed by a handsome, perverted boy who she called the \"Perverted Prince.\" Later on, she finds a guy who looks exactly like him, but the eyes are different. What's going on?                                                                                                                                                                                                                                                                                                                                                                                                                                                                                                                                                                                                                                                                                                                                                                                                                                                                                                                                                                                                                                                                                                                                                                                                                                                                                                                                                                                                                                                                                                                                                                                                                                                                                                                                                                                                                                                                                                                                                                                                                                                                                                                                                                                                                                                                                                                                                                                                                                                                                                                                                                                                                                                                                                                                                                                                                                                                                                                                                                                                                                                                                                                                                                                                                                                              6\n",
       "كتاب تاريخي جمع فيه التراجم و الأخبار، فقد كان المصنف شاهد عين للحملة الفرنسية على مصر وللسنين التي عقبتها بقليل، وقد أورد في كتابه هذا تراجم كثيرين من المشاهير بدقة وإسهاب، يبتدئ من فتح السلطان سليم العثماني مصر و ينتهي إلى منتصف حكم محمدعلي باشا، وهو مطول ومرتب على شكل وقائع يومية، وهو تكملة وتتمة لتاريخ ابن إياس الذي هو تكملة وتتمة لتاريخ المقريزي.                                                                                                                                                                                                                                                                                                                                                                                                                                                                                                                                                                                                                                                                                                                                                                                                                                                                                                                                                                                                                                                                                                                                                                                                                                                                                                                                                                                                                                                                                                                                                                                                                                                                                                                                                                                                                                                                                                                                                                                                                                                                                                                                                                                                                                                                                                                                                                                                                                                                                                                                                                                                                                                                                                                                                                                                                                                                                                                                                                                                                                                                                                                                                                                                                              6\n",
       "كتاب موسوعي تاريخي ضخم من تأليف الفيلسوف والمؤرخ الأمريكي \"ويل ديورانت\" وزوجته \"أريل ديورانت\". هي موسوعة في فلسفة التاريخ قضى مؤلفها عشرات السنين في إعدادها، فقرأ لذلك عشرات المؤلفات وطاف بجميع أرجاء العالم من شرقية إلى غربية أكثر من مرة على مدار 40 عامًا من عام 1935 حتى عام 1975، وحسب القارئ دليلا على الجهد الذي بذله في إعداد العدة لها أن يطلع على ثبت المراجع العامة والخاصة الذي أثبتناه في آخر كل جزء من هذه الأجزاء. وقد كان يعتزم في بادئ الأمر أن تكون هذه السلسلة في خمسة مجلدات، ولكن البحث تشعب والمادة كثرت فزادها إلى سبعة، ثم تجاوزت هذا العدد الذي قدره لها أخيراً فقررها في 11 مجلد. يتحدث فيها عن قصة جميع الحضارات البشرية منذ بدايتها وحتى عصر نابليون ويتسم بالموضوعية وبالمنهج العلميوالخلاصة أن هذه السلسلة ذخيرة علمية لا غنى عنها للمكتبة العربية ولعشاق التاريخ والفلسفة والأدب والعلم والفن والاجتماع وجميع مقومات الحضارة. الترجمة العربية: تمت ترجمة الكتاب إلى اللغة العربية وأصدرته المنظمة العربية للتربية والثقافة والعلوم التابعة لجامعة الدول العربية ودار الجيل في بيروت سنة 1988 النسخة العربية تتكون من 42 جزء في 24 مجلد، تناوب على ترجمته نخبة من الاساتذه في الفلسفة والتاريخ والعلوم.هذه هي طبعة \"دار الفكر - بيروت\" وهي آخر طبعة عربية تم اصدارها حتي الآن على 47 جزء في 23 مجلد بالاضافة الى مجلد خاص بالفهارس كتبه الاستاذ محمد عبد الرحيم بمقدمة خاصة وسرد سيرة الفيلسوف \"ويل ديورانت\" مؤلف الموسوعة الاشهر في القرن العشرين                                                                                                                                                                                                                                                                                                                                                                                                                                                                                                                                                                                                                                                                                                                                                                                                                                                                                                                                                                                                                                                                                                                                                                                                                                                                                                                                                                                                                                                                                                                                                                                                                                                                                                                                                                                                                                                                                                                                                                                                                                                                                                                                                                                                            5\n",
       "                                                                                                                                                                                                                                                                                                                                                                                                                                                                                                                                                                                                                                                                                                                                                                                                                                                                                                                                                                                                                                                                                                                                                                                                                                                                                                                                                                                                                                                                                                                                                                                                                                                                                                                                                                                                                                                                                                                                                                                                                                                                                                                                                                                                                                                                                                                                                                                                                                                                                                                                                                                                                                                                                                                                                                                                                                                                                                                                                                                                                                                                                                                                                                                                                                                                                                                                                                                                                                                                                                                                                                                              ..\n",
       "Will, Kevin, Rose, Quentin and Fiona have overcome supercomputer REX and escaped their island prison for the open sea. Instead of sailing to freedom, suddenly everything changes. Will wakes up on an enormous container ship without knowing how he got there. He explores blood-stained corridors and deserted cargo holds for his friends, and senses he is being watched. Then Will encounters something new in his life: adults. But these are adults beyond Will’s darkest nightmares. Will and his four friends link up with a lone doctor who swears he is on their side, but is he? Who can Will trust and what is really going on? Will & Co. have to work it out fast and survive in the meantime. Because unknown to them all, there is something much worse aboard ship and it’s about to emerge . . . ‘Suspense and intrigue, delivered at lightning pace’ – Susan Trapp                                                                                                                                                                                                                                                                                                                                                                                                                                                                                                                                                                                                                                                                                                                                                                                                                                                                                                                                                                                                                                                                                                                                                                                                                                                                                                                                                                                                                                                                                                                                                                                                                                                                                                                                                                                                                                                                                                                                                                                                                                                                                                                                                                                                                                                                                                                                                                                                                                                                                                                                                                                                                                                                                                        1\n",
       "Thea Landry has always known her place in modern-day society. It’s somewhere just above the trash can her mother dumped her in as a newborn but below the class where much comes easy. With her tattered shoes and bargain-bin clothes, her life has never been full of glamour. So when a rich and charismatic man takes interest, she doesn’t fool herself into thinking their encounter is anything more than a one-night stand. Months later, she’s kicking herself for not getting his phone number. Or his last name. She’s given up hope of seeing him ever again.Until one day, years later, Logan Kendrick waltzes into her life once more and turns everything she’s built upside down. This time around, she won’t make the same mistake. She’s going to fight to keep him in her life—not for herself.But for their daughter.                                                                                                                                                                                                                                                                                                                                                                                                                                                                                                                                                                                                                                                                                                                                                                                                                                                                                                                                                                                                                                                                                                                                                                                                                                                                                                                                                                                                                                                                                                                                                                                                                                                                                                                                                                                                                                                                                                                                                                                                                                                                                                                                                                                                                                                                                                                                                                                                                                                                                                                                                                                                                                                                                                                                                      1\n",
       "Jess Carter only wants to finish out her senior year of high school. No friends, no boyfriends, and definitely not an insanely hot, overprotective guy who might possibly be her mate. No thanks. She only came to the tiny town of Banks, Idaho to make sure her dad doesn't do anything too crazy. Like buy the local motel where you pay by the hour.Dangerous stalkers and a group of students known as the Pack are the opposite of what she plans on, but that doesn’t change the fact that she has zero intentions of getting involved. At all. Period. End of story.Except, the stalkers are after her, the insanely hot guy is one of the high school coaches, and the Pack….well, let’s just say the name suits them.With nowhere else to turn, Jess must rely on the Pack to protect her, but in doing so, she becomes caught up in a brewing war over territory and power. One that may cost her everything.Mild language. No cliffhanger. HEA guaranteed.A paranormal, shifter romance.                                                                                                                                                                                                                                                                                                                                                                                                                                                                                                                                                                                                                                                                                                                                                                                                                                                                                                                                                                                                                                                                                                                                                                                                                                                                                                                                                                                                                                                                                                                                                                                                                                                                                                                                                                                                                                                                                                                                                                                                                                                                                                                                                                                                                                                                                                                                                                                                                                                                                                                                                                                           1\n",
       "The complex moral ambiguities of seduction and revenge make “Dangerous Liaisons” (1782) one of the most scandalous and controversial novels in European literature. Its prime movers, the Viscount de Valmont and the Marchioness de Merteuil — gifted, wealthy, and bored — form an unholy alliance and turn seduction into a game. And they play this game with such wit and style that it is impossible not to admire them, until they discover mysterious rules that they cannot understand. In the ensuing battle there can be no winners, and the innocent suffer with the guilty.The Marchioness de Merteuil and the Viscount de Valmont are creations without precedent. They are the first [in European literature] whose acts are determined by an ideology. —André MalrauxOne of the two greatest French novels. —André GideWhat really keeps “Dangerous Liaisons” potent after two hundred years is not so much its depiction of sex as its catalog of corruptions, including but not limited to the corruption of language by polite cant and the corruption of morals by manners. It implicates a whole society so founded on falsehood that a single act of emotional truth is tantamount to an act of subversion. —Luc SanteIn many respects, Laclos is the perfect author: he wrote, at around the age of 40, one piece of fiction, which was not merely a masterpiece, but the supreme example of its genre, the epistolary novel; and then he troubled the public no further. —Christopher Hampton                                                                                                                                                                                                                                                                                                                                                                                                                                                                                                                                                                                                                                                                                                                                                                                                                                                                                                                                                                                                                                                                                                                                                                                                                                                                                                                                                                                                                                                                                                                                                                                                                                                                                                                                                                                                                                                                                                                                                                                                                                                                          1\n",
       "A couple's sensual journey from the strictures of their lives to explore the passion they left behind and discover a love they never thought they would have.Twelve years ago wrong side of the tracks bad boy, Jesse Weldon, was framed for a crime he didn't commit by the blue-blooded Jordan family. Now he's back in Savannah with his highly successful security company to put the Weldon name on the right side of the tracks. Unfortunately, before he can even make a move in that direction, he runs into Alexandria Jordan and ends up making the same mistake he did before. He succumbs to her allure, but this time, he plans on getting her out of his system for good and walking away.Except for a few wild moments with Jesse at seventeen, Alexi Jordan has followed the life expected of her. But a Wedding Day betrayal from her blue-blooded fiancé has her running from her life and right into the arms of the man she'd never forgotten, Jesse. Yet as she forges a new future for herself amid the scandal of her aborted wedding, Alexi finds herself the target of a twisted killer and both her and Jesse's days are now numbered.Excerpt:\"Still a virgin on the run after all these years, Lexi?\" he drawled.  His voice, as steamy and seductive as Southern summer day, challenged her on an elemental level, a sensual one. \"Almost,\" Alexi said, letting the last illicit picture she had of Roger fall from her grasp to the ground.  She'd only ever been with Roger and he didn't count.  Not anymore.  She sucked in air, latching onto Jesse's appeal.  The reporters encircled them.  Jesse lifted his hot gaze to her eyes and smiled. \"Almost?\"  Slow and sexual, his grin spread awareness over her.  \"Sounds frustrating.  Interested in changing that?\"  He ran his finger under her chin and she caught her breath. Yes, some part deep inside her shouted.  Yes, she wanted to change that.  Here was one situation her grandmother couldn't smooth over with a lie.  With the cameras rolling, Roger and her grandmother would get a clear picture that Alexi meant it when she said she wasn't marrying Roger ever. \"Yes,\" Alexi said to Jesse, stepping closer to him.  Waves of his sex appeal washed over her.  Waves she had no trouble remembering, though she'd only been seventeen when she'd last dipped into them.  His nearness and touch sparked something inside of her that wanted to rebel against everything that had just happened to her.  \"Kiss me,\" she demanded, loudly.Jesse arched his brow and asked softly, \"What's your game Lexi?\"  His slid an arm around her and pulled her flush to his chest, her breasts to his hard muscle.  Then his mouth covered hers.  She gasped at the desire shooting through her as his tongue entered her mouth, and his gaze dared her to respond. She wound her arms around his neck, pressed closer to him, and met his tongue with hers.  His eyes widened with surprise, telling her that he'd expected her to put him off rather than to take him up on his challenge.  After that first moment, he didn't hesitate in delivering a four-alarm kiss.  He bent her back over his arm, inserted his leg between hers and had one hand cupping her butt.  In one kiss he ravished her from the inside out and she burned for more.  By delivering a message to her grandmother, what message had she delivered to herself? He ended the kiss, but kept her captive in his embrace as he stared into her eyes.  The cameras continued to flash and the world swirled crazily.     1\n",
       "Name: description, Length: 8839, dtype: int64"
      ]
     },
     "execution_count": 13,
     "metadata": {},
     "output_type": "execute_result"
    }
   ],
   "source": [
    "data.description.value_counts()"
   ]
  },
  {
   "cell_type": "code",
   "execution_count": 14,
   "metadata": {},
   "outputs": [],
   "source": [
    "descrip_en_otro_idioma = data.loc[data.description == 'هذه هي طبعة \"دار الفكر - بيروت\" وهي آخر طبعة عربية تم اصدارها حتي الآن على 47 جزء في 23 مجلد بالاضافة الى مجلد خاص بالفهارس كتبه الاستاذ محمد عبد الرحيم بمقدمة خاصة وسرد سيرة الفيلسوف \"ويل ديورانت\" مؤلف الموسوعة الاشهر في القرن العشرينكتاب موسوعي تاريخي ضخم من تأليف الفيلسوف والمؤرخ الأمريكي \"ويل ديورانت\" وزوجته \"أريل ديورانت\". هي موسوعة في فلسفة التاريخ قضى مؤلفها عشرات السنين في إعدادها، فقرأ لذلك عشرات المؤلفات وطاف بجميع أرجاء العالم من شرقية إلى غربية أكثر من مرة على مدار 40 عامًا من عام 1935 حتى عام 1975، وحسب القارئ دليلا على الجهد الذي بذله في إعداد العدة لها أن يطلع على ثبت المراجع العامة والخاصة الذي أثبتناه في آخر كل جزء من هذه الأجزاء. وقد كان يعتزم في بادئ الأمر أن تكون هذه السلسلة في خمسة مجلدات، ولكن البحث تشعب والمادة كثرت فزادها إلى سبعة، ثم تجاوزت هذا العدد الذي قدره لها أخيراً فقررها في 11 مجلد. يتحدث فيها عن قصة جميع الحضارات البشرية منذ بدايتها وحتى عصر نابليون ويتسم بالموضوعية وبالمنهج العلميوالخلاصة أن هذه السلسلة ذخيرة علمية لا غنى عنها للمكتبة العربية ولعشاق التاريخ والفلسفة والأدب والعلم والفن والاجتماع وجميع مقومات الحضارة. الترجمة العربية: تمت ترجمة الكتاب إلى اللغة العربية وأصدرته المنظمة العربية للتربية والثقافة والعلوم التابعة لجامعة الدول العربية ودار الجيل في بيروت سنة 1988 النسخة العربية تتكون من 42 جزء في 24 مجلد، تناوب على ترجمته نخبة من الاساتذه في الفلسفة والتاريخ والعلوم.', 'title'].tolist()"
   ]
  },
  {
   "cell_type": "code",
   "execution_count": 15,
   "metadata": {},
   "outputs": [],
   "source": [
    "book_descriptions = [\n",
    "    \"A memoir by actor Nick Offerman, offering humorous and insightful advice on life, love, woodworking, and his personal journey to success.\",\n",
    "    \"A young adult novel that follows three high school girls who exchange letters with students from a rival school, leading to unexpected friendships, mysteries, and adventures.\",\n",
    "    \"This non-fiction book recounts the true story of a British drug trafficker who becomes an inmate in Bolivia's notorious San Pedro Prison and forms an unlikely friendship with an Australian journalist.\",\n",
    "    \"A science fiction novel that blends elements of fantasy and religious satire. It follows the misadventures of Alex Hergensheimer as he finds himself caught between multiple dimensions and theological conflicts.\",\n",
    "    \"A picture book that tells the story of three trees who each have dreams of what they want to become. Over time, they discover that their destinies are intertwined with significant events, including the birth and crucifixion of Jesus Christ.\",\n",
    "    \"A dark and gritty novel set in rural Ohio and West Virginia, exploring the lives of various characters affected by violence, corruption, and religious fervor.\",\n",
    "    \"The first book in a children's series that follows Mildred Hubble, a young witch-in-training at Miss Cackle's Academy for Witches. Mildred faces numerous comical mishaps while trying to prove herself as a competent witch.\",\n",
    "    \"A comprehensive collection of writings that explores the evolution and various theories behind modern and contemporary art movements from the 20th century.\",\n",
    "    \"A classic short story set in the harsh Yukon wilderness, depicting a man's struggle for survival against freezing temperatures and the unforgiving forces of nature.\",\n",
    "    \"A beloved Norwegian fairy tale about three billy goats who must outsmart a fearsome troll in order to cross a bridge and reach the greener pastures on the other side.\",\n",
    "    \"A true story of high finance, murder, and one man’s fight for justice, set against the backdrop of post-Soviet Russia and the author's own experiences as a Wall Street trader.\",\n",
    "    \"A fantasy novel that follows the adventures of a young wizard, Alex, who must navigate a magical realm filled with spells, mythical creatures, and dangerous quests to save his family.\",\n",
    "    \"A science fiction thriller set in the future where a murder investigation leads to a conspiracy that spans multiple planets and threatens the stability of humanity.\",\n",
    "    \"The first volume in the 'No Man's Land' storyline of Batman comics, which depicts the aftermath of a devastating earthquake that isolates Gotham City and plunges it into chaos.\",\n",
    "    \"A heartwarming Christmas-themed novel that follows a disillusioned journalist as he embarks on a cross-country train journey filled with unexpected encounters and second chances.\",\n",
    "    \"A historical romance novel featuring a spirited young woman, Christina, who finds herself caught between the charms of a notorious rake and the enigmatic Earl of Rothgar.\",\n",
    "    \"A popular comic book storyline featuring the Hulk, where he is banished from Earth and becomes a gladiator on the planet Sakaar, leading to epic battles and a struggle for freedom.\",\n",
    "    \"A science fiction novel by Alastair Reynolds, following a crew of space miners who stumble upon a mysterious artifact that propels them into a dangerous interstellar journey.\",\n",
    "    \"A collection of Calvin and Hobbes comic strips featuring the misadventures of Calvin, a six-year-old with a vivid imagination, and his stuffed tiger friend Hobbes.\",\n",
    "    \"A fantasy novel set in Viking times, telling the story of a young boy, Jack, who must rescue his sister from the clutches of trolls and journey to the land of the Norse gods.\",\n",
    "    \"The first volume in a manga series about a group of high school delinquents who form a motorcycle gang and embark on thrilling and rebellious adventures.\",\n",
    "    \"A satirical novel by Vladimir Nabokov, depicting the absurd trial and execution of a man named Cincinnatus in a totalitarian society where individuality is suppressed.\",\n",
    "    \"A fantasy novel that reimagines Jane Austen's 'Pride and Prejudice' in a world where humans coexist with dragons, following the romance and adventures of Aliza and Alastair.\",\n",
    "    \"The third book in the 'Magic Tree House' series, where Jack and Annie travel back in time to Ancient Egypt and must solve a riddle to help free a captive queen.\",\n",
    "    \"A book exploring the history of scientific discovery and exploration, examining the contributions of various individuals who shaped our understanding of the world.\",\n",
    "    \"A biography of Sherlock Holmes, the iconic detective created by Sir Arthur Conan Doyle, delving into the life and adventures of the world's first consulting detective.\"\n",
    "]\n"
   ]
  },
  {
   "cell_type": "code",
   "execution_count": 16,
   "metadata": {},
   "outputs": [],
   "source": [
    "for title, description in zip(descrip_en_otro_idioma, book_descriptions):\n",
    "    data.loc[data['title'] == title, 'description'] = description"
   ]
  },
  {
   "cell_type": "code",
   "execution_count": 17,
   "metadata": {},
   "outputs": [],
   "source": [
    "descrip_to_change = data.loc[data.description == 'This book was converted from its physical edition to the digital format by a community of volunteers. You may find it for free on the web. Purchase of the Kindle edition includes wireless delivery.', 'title'].tolist()\n",
    "descriptions = [\n",
    "    \"A compelling historical fiction novel that delves into the haunting realities of the Armenian Genocide, weaving together the stories of a young American woman and an Armenian engineer.\",\n",
    "    \"A captivating fantasy tale following the adventures of Clea Raymond as she embarks on a quest to find her missing father, encountering secrets, romance, and supernatural elements along the way.\",\n",
    "    \"A collection of short stories by Lorrie Moore, offering poignant and witty insights into the complexities of human relationships, often exploring themes of love, loss, and the quirks of everyday life.\",\n",
    "    \"A gripping espionage novel that alternates between the story of a young woman discovering her mother's secret past as a British spy during World War II and the present-day repercussions of that hidden history.\",\n",
    "    \"The final collection of twelve Sherlock Holmes stories by Arthur Conan Doyle, featuring the brilliant detective solving intriguing mysteries and showcasing his astute observational skills.\",\n",
    "    \"A culinary memoir by Yotam Ottolenghi, renowned chef and cookbook author, sharing his personal journey, inspirations, and a delightful collection of vibrant and flavorful recipes.\",\n",
    "    \"A bestselling business book by Donald J. Trump and Tony Schwartz, offering insights into Trump's approach to deal-making, negotiation strategies, and anecdotes from his real estate ventures.\",\n",
    "    \"The tenth installment in the thrilling 'Midnight Breed' paranormal romance series by Lara Adrian, featuring a passionate love story amidst the ongoing war between vampires and their enemies.\"\n",
    "]"
   ]
  },
  {
   "cell_type": "code",
   "execution_count": 18,
   "metadata": {},
   "outputs": [],
   "source": [
    "for title, description in zip(descrip_to_change, descriptions):\n",
    "    data.loc[data['title'] == title, 'description'] = description"
   ]
  },
  {
   "cell_type": "code",
   "execution_count": 19,
   "metadata": {},
   "outputs": [
    {
     "data": {
      "text/plain": [
       "id                              0\n",
       "book_id                         0\n",
       "best_book_id                    0\n",
       "work_id                         0\n",
       "books_count                     0\n",
       "isbn                            1\n",
       "isbn13                          1\n",
       "authors                         0\n",
       "original_publication_year      18\n",
       "original_title                  0\n",
       "title                           0\n",
       "language_code                1010\n",
       "average_rating                  0\n",
       "ratings_count                   0\n",
       "work_ratings_count              0\n",
       "work_text_reviews_count         0\n",
       "ratings_1                       0\n",
       "ratings_2                       0\n",
       "ratings_3                       0\n",
       "ratings_4                       0\n",
       "ratings_5                       0\n",
       "description                     1\n",
       "genre                           0\n",
       "pages                           0\n",
       "dtype: int64"
      ]
     },
     "execution_count": 19,
     "metadata": {},
     "output_type": "execute_result"
    }
   ],
   "source": [
    "data.isnull().sum()"
   ]
  },
  {
   "cell_type": "code",
   "execution_count": 20,
   "metadata": {},
   "outputs": [],
   "source": [
    "publication_year_to_fill = data.loc[data['original_publication_year'].isnull(), 'title'].tolist()\n",
    "publication_years = [2008,1991,2003,2003,2007,2003,2009,2004,1859,1930,2006,1982,1999,1995,1974,1936,2009,2007]\n",
    "\n",
    "for title, year in zip(publication_year_to_fill, publication_years):\n",
    "    data.loc[data['title'] == title, 'original_publication_year'] = year"
   ]
  },
  {
   "cell_type": "code",
   "execution_count": 21,
   "metadata": {},
   "outputs": [
    {
     "data": {
      "text/plain": [
       "id                              0\n",
       "book_id                         0\n",
       "best_book_id                    0\n",
       "work_id                         0\n",
       "books_count                     0\n",
       "isbn                            1\n",
       "isbn13                          1\n",
       "authors                         0\n",
       "original_publication_year       0\n",
       "original_title                  0\n",
       "title                           0\n",
       "language_code                1010\n",
       "average_rating                  0\n",
       "ratings_count                   0\n",
       "work_ratings_count              0\n",
       "work_text_reviews_count         0\n",
       "ratings_1                       0\n",
       "ratings_2                       0\n",
       "ratings_3                       0\n",
       "ratings_4                       0\n",
       "ratings_5                       0\n",
       "description                     1\n",
       "genre                           0\n",
       "pages                           0\n",
       "dtype: int64"
      ]
     },
     "execution_count": 21,
     "metadata": {},
     "output_type": "execute_result"
    }
   ],
   "source": [
    "data.isnull().sum()"
   ]
  },
  {
   "cell_type": "code",
   "execution_count": 22,
   "metadata": {},
   "outputs": [],
   "source": [
    "data.to_csv('data/book_data_procesado.csv')"
   ]
  }
 ],
 "metadata": {
  "kernelspec": {
   "display_name": "Python 3",
   "language": "python",
   "name": "python3"
  },
  "language_info": {
   "codemirror_mode": {
    "name": "ipython",
    "version": 3
   },
   "file_extension": ".py",
   "mimetype": "text/x-python",
   "name": "python",
   "nbconvert_exporter": "python",
   "pygments_lexer": "ipython3",
   "version": "3.10.5"
  },
  "orig_nbformat": 4
 },
 "nbformat": 4,
 "nbformat_minor": 2
}
